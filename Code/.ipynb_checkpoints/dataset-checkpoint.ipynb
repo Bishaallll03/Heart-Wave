{
 "cells": [
  {
   "cell_type": "code",
   "execution_count": 2,
   "metadata": {},
   "outputs": [],
   "source": [
    "from scipy.io import wavfile\n",
    "import matplotlib.pyplot as plt\n",
    "import numpy as np\n",
    "import pywt\n",
    "import os"
   ]
  },
  {
   "cell_type": "code",
   "execution_count": 3,
   "metadata": {},
   "outputs": [],
   "source": [
    "folder_list = os.listdir(\"..\\\\datasets\\\\raw\\\\dataset_half\")"
   ]
  },
  {
   "cell_type": "code",
   "execution_count": 2,
   "metadata": {},
   "outputs": [],
   "source": [
    "scales = np.geomspace(7, 600, 200)\n",
    "for folder in folder_list:\n",
    "    file_list = os.listdir(f\"..\\\\datasets\\\\raw\\\\dataset_half\\\\{folder}\")\n",
    "    for file in file_list:\n",
    "        _, raw_signal = wavfile.read(f\"..\\\\datasets\\\\raw\\\\dataset_half\\\\{folder}\\\\{file}\")\n",
    "        preprocessed_signal = raw_signal / np.max(np.abs(raw_signal))\n",
    "        time = np.linspace(0, raw_signal.shape[0] / 8000, preprocessed_signal.shape[0])\n",
    "        cwt_mat, freq = pywt.cwt(preprocessed_signal, scales, 'morl', sampling_period=0.000125)\n",
    "        cwt_mat = np.abs(cwt_mat)\n",
    "        plt.figure(figsize=(5, 5))\n",
    "        plt.pcolormesh(time, freq, cwt_mat)\n",
    "        plt.yscale(\"log\")\n",
    "        plt.axis(False)\n",
    "        plt.jet()\n",
    "        plt.tight_layout()\n",
    "        plt.savefig(f\"..\\\\datasets\\\\dataset_half_cwt\\\\{folder}\\\\{file[:-4]}.png\")\n",
    "        plt.close()"
   ]
  },
  {
   "cell_type": "code",
   "execution_count": 4,
   "metadata": {},
   "outputs": [],
   "source": [
    "for folder in folder_list:\n",
    "    file_list = os.listdir(f\"..\\\\datasets\\\\dataset_half_cwt\\\\{folder}\")\n",
    "    for file in file_list:\n",
    "        img = plt.imread(f\"..\\\\datasets\\\\dataset_half_cwt\\\\{folder}\\\\{file}\")\n",
    "        img = img[15:485, 15:485, :3]\n",
    "        plt.imsave(f\"..\\\\datasets\\\\dataset_half_cwt\\\\{folder}\\\\{file}\", img)"
   ]
  },
  {
   "cell_type": "code",
   "execution_count": 5,
   "metadata": {},
   "outputs": [],
   "source": [
    "import random\n",
    "import shutil"
   ]
  },
  {
   "cell_type": "code",
   "execution_count": 6,
   "metadata": {},
   "outputs": [],
   "source": [
    "for folder in folder_list:\n",
    "    os.mkdir(\"..\\\\datasets\\\\dataset_half_cwt\\\\split\\\\train\\\\\" + folder)\n",
    "    os.mkdir(\"..\\\\datasets\\\\dataset_half_cwt\\\\split\\\\val\\\\\" + folder)\n",
    "    os.mkdir(\"..\\\\datasets\\\\dataset_half_cwt\\\\split\\\\test\\\\\" + folder)\n",
    "    file_list = os.listdir(\"..\\\\datasets\\\\dataset_half_cwt\\\\\" + folder)\n",
    "    random.shuffle(file_list)\n",
    "    for file in file_list[:80]:\n",
    "        shutil.move(f\"..\\\\datasets\\\\dataset_half_cwt\\\\{folder}\\\\{file}\", \"..\\\\datasets\\\\dataset_half_cwt\\\\split\\\\train\\\\\" + folder)\n",
    "    for file in file_list[80:90]:\n",
    "        shutil.move(f\"..\\\\datasets\\\\dataset_half_cwt\\\\{folder}\\\\{file}\", \"..\\\\datasets\\\\dataset_half_cwt\\\\split\\\\val\\\\\" + folder)\n",
    "    for file in file_list[90:]:\n",
    "        shutil.move(f\"..\\\\datasets\\\\dataset_half_cwt\\\\{folder}\\\\{file}\", \"..\\\\datasets\\\\dataset_half_cwt\\\\split\\\\test\\\\\" + folder)"
   ]
  }
 ],
 "metadata": {
  "kernelspec": {
   "display_name": ".venv2",
   "language": "python",
   "name": "python3"
  },
  "language_info": {
   "codemirror_mode": {
    "name": "ipython",
    "version": 3
   },
   "file_extension": ".py",
   "mimetype": "text/x-python",
   "name": "python",
   "nbconvert_exporter": "python",
   "pygments_lexer": "ipython3",
   "version": "3.10.11"
  }
 },
 "nbformat": 4,
 "nbformat_minor": 2
}
